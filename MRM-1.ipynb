{
 "cells": [
  {
   "cell_type": "code",
   "execution_count": 64,
   "metadata": {},
   "outputs": [],
   "source": [
    "import pandas as pd\n",
    "import numpy as np\n",
    "import matplotlib.pyplot as plt\n",
    "import seaborn as sns\n",
    "from sklearn.model_selection import train_test_split"
   ]
  },
  {
   "cell_type": "code",
   "execution_count": 65,
   "metadata": {},
   "outputs": [],
   "source": [
    "data = pd.read_csv('C:\\python\\Lib\\CarPrice_Assignment.csv')\n",
    "\n",
    "# Data preprocessing and feature selection\n",
    "data.cylindernumber=data.cylindernumber.replace({'four':0,'five':1,'six':2,'eight':3,'three':4,'twelve':5,'two':6})",
    "X = data[['citympg','compressionratio','enginesize','boreratio','horsepower','carlength','carwidth','peakrpm','cylindernumber']]  # Features (independent variables)  # Features (independent variables)\n",
    "y = data['price']\n",
    "for i in X.T:\n",
    "    fmin = X.min()\n",
    "    frange = X.max() - X.min()\n",
    "    X -= fmin\n",
    "    X /= frange"
   ]
  },
  {
   "cell_type": "code",
   "execution_count": 66,
   "metadata": {},
   "outputs": [],
   "source": [
    "X_train, X_test, y_train, y_test = train_test_split(X, y, test_size=0.2, random_state=42)"
   ]
  },
  {
   "cell_type": "code",
   "execution_count": 67,
   "metadata": {},
   "outputs": [
    {
     "name": "stdout",
     "output_type": "stream",
     "text": [
      "[0. 0. 0. 0. 0. 0. 0. 0.]\n"
     ]
    }
   ],
   "source": [
    "weights = np.zeros(X_train.shape[1])\n",
    "learning_rate = 0.5\n",
    "num_iterations = 4000\n",
    "cost_history = []\n",
    "print(weights)\n",
    "bias=1058"
   ]
  },
  {
   "cell_type": "code",
   "execution_count": 68,
   "metadata": {},
   "outputs": [],
   "source": [
    "def costF(y_train,predictions):\n",
    "    N = len(y_train)\n",
    "    sq_error = (predictions - y_train) ** 2\n",
    "    #print(1.0 / (2 * N) * sq_error.sum())\n",
    "    return 1.0 / (2 * N) * sq_error.sum()"
   ]
  },
  {
   "cell_type": "code",
   "execution_count": 69,
   "metadata": {},
   "outputs": [],
   "source": [
    "for i in range(num_iterations):\n",
    "    predictions = np.dot(X_train, weights)+bias\n",
    "    error = predictions-y_train\n",
    "    dw = np.dot(X_train.T, error) / (X_train.shape[0])\n",
    "    db = np.sum(error) / (X_train.shape[0])\n",
    "    weights -= dw*learning_rate\n",
    "    bias -= learning_rate * db\n",
    "    current_cost = costF(y_train, predictions)\n",
    "    cost_history.append(current_cost)"
   ]
  },
  {
   "cell_type": "code",
   "execution_count": 70,
   "metadata": {},
   "outputs": [],
   "source": [
    "predictions_test = np.dot(X_test, weights)"
   ]
  },
  {
   "cell_type": "code",
   "execution_count": 71,
   "metadata": {},
   "outputs": [
    {
     "name": "stdout",
     "output_type": "stream",
     "text": [
      "R-squared (R²) value: 0.7834\n"
     ]
    }
   ],
   "source": [
    "y_mean = y_test.mean()\n",
    "tss = ((y_test - y_mean) ** 2).sum()\n",
    "\n",
    "rss = ((y_test - predictions_test) ** 2).sum()\n",
    "\n",
    "r_squared = 1 - (rss / tss)\n",
    "\n",
    "print(f'R-squared (R²) value: {r_squared:.4f}')"
   ]
  },
  {
   "cell_type": "code",
   "execution_count": 72,
   "metadata": {},
   "outputs": [
    {
     "name": "stdout",
     "output_type": "stream",
     "text": [
      "0.8536585365853658\n"
     ]
    }
   ],
   "source": [
    "correct_predictions = 0\n",
    "total_predictions = len(y_test)\n",
    "\n",
    "for i in range(total_predictions):\n",
    "    if abs(predictions_test[i] - y_test.iloc[i]) <= 5000:\n",
    "        correct_predictions += 1\n",
    "\n",
    "accuracy = correct_predictions / total_predictions\n",
    "print(accuracy)"
   ]
  },
  {
   "cell_type": "code",
   "execution_count": 73,
   "metadata": {},
   "outputs": [
    {
     "data": {
      "image/png": "[encoded data removed]",
      "text/plain": [
       "<Figure size 640x480 with 1 Axes>"
      ]
     },
     "metadata": {},
     "output_type": "display_data"
    }
   ],
   "source": [
    "plt.plot(range(num_iterations), cost_history)\n",
    "plt.xlabel('Iteration')\n",
    "plt.ylabel('Cost')\n",
    "plt.title('Cost Function over Iterations')\n",
    "plt.show()"
   ]
  }
 ],
 "metadata": {
  "kernelspec": {
   "display_name": "base",
   "language": "python",
   "name": "python3"
  },
  "language_info": {
   "codemirror_mode": {
    "name": "ipython",
    "version": 3
   },
   "file_extension": ".py",
   "mimetype": "text/x-python",
   "name": "python",
   "nbconvert_exporter": "python",
   "pygments_lexer": "ipython3",
   "version": "3.9.13"
  }
 },
 "nbformat": 4,
 "nbformat_minor": 2
}
